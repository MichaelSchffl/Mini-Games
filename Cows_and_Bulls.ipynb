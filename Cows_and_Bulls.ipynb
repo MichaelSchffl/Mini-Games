{
 "cells": [
  {
   "cell_type": "markdown",
   "metadata": {},
   "source": [
    "## Exercise 18: Cows and Bulls"
   ]
  },
  {
   "cell_type": "code",
   "execution_count": 1,
   "metadata": {},
   "outputs": [],
   "source": [
    "import numpy as np\n",
    "import re\n",
    "import itertools"
   ]
  },
  {
   "cell_type": "code",
   "execution_count": 2,
   "metadata": {},
   "outputs": [],
   "source": [
    "def checking_cowsandbulls(guess,number):\n",
    "    cows = 0\n",
    "    bulls = 0\n",
    "    bullbool = False\n",
    "    bull_list = number.copy()\n",
    "    for i,dig in enumerate(guess):\n",
    "        bullbool = any(dig2 == dig for dig2 in bull_list)\n",
    "        if bullbool:\n",
    "            bull_list.remove(dig)\n",
    "            bulls +=1\n",
    "        if number[i] == dig:\n",
    "            cows +=1\n",
    "    bulls = bulls-cows\n",
    "    print('bulls: ',bulls,'cows: ',cows)\n",
    "    return bulls,cows"
   ]
  },
  {
   "cell_type": "code",
   "execution_count": 3,
   "metadata": {},
   "outputs": [],
   "source": [
    "def guess_algm(i,second_,twodig_,nr_,numlist_,savelist_,pcguess_,bulls_,cows_):\n",
    "    if len(savelist_) == 4:\n",
    "        permutations = list(itertools.permutations(savelist))\n",
    "        pcguess_ = list(permutations[i])\n",
    "        i +=1\n",
    "    else:\n",
    "        if twodig_:\n",
    "            if bulls_+cows_ == 0:\n",
    "                if pcguess_ != 0:\n",
    "                    numlist_.remove(pcguess_[0])\n",
    "                    numlist_.remove(pcguess_[2])\n",
    "                    #print('removed',pcguess_[0],pcguess_[2])\n",
    "                    pcguess_ = [pcguess_[0]+2,pcguess_[0]+2,pcguess_[0]+3,pcguess_[0]+3]\n",
    "                else:\n",
    "                    pcguess_ = [numlist_[0],numlist_[0],numlist_[0]+1,numlist_[0]+1]\n",
    "                twodig_ = True\n",
    "            else:\n",
    "                pcguess_ = [pcguess_[0],pcguess_[0],pcguess_[0],pcguess_[0]]\n",
    "                twodig_ = False\n",
    "                second_ = False\n",
    "                nr_ = bulls_+cows_       \n",
    "\n",
    "        else:\n",
    "            if cows_ == 0:\n",
    "                numlist_.remove(pcguess_[0])\n",
    "                if second_:\n",
    "                    pcguess_ = [pcguess_[0]+1,pcguess_[0]+1,pcguess_[0]+2,pcguess_[0]+2]\n",
    "                    twodig_ = True\n",
    "                else:\n",
    "                    for i in range(0,nr_):\n",
    "                        savelist_.append(pcguess_[0]+1)\n",
    "                    if pcguess_ != [8,8,8,8]:\n",
    "                        pcguess_ = [pcguess_[0]+2,pcguess_[0]+2,pcguess_[0]+3,pcguess_[0]+3]\n",
    "                        twodig_ = True\n",
    "            else:\n",
    "                for k in range(0,cows_):\n",
    "                    savelist_.append(pcguess_[0])\n",
    "                if nr_ > 1:\n",
    "                    pcguess_ = [pcguess_[0]+1,pcguess_[0]+1,pcguess_[0]+1,pcguess_[0]+1]\n",
    "                    twodig_ = False\n",
    "                    second_ = True\n",
    "                else:    \n",
    "                    #print(pcguess_[0]+1)\n",
    "                    numlist_.remove(pcguess_[0]+1)\n",
    "                    pcguess_ = [pcguess_[0]+2,pcguess_[0]+2,pcguess_[0]+3,pcguess_[0]+3]\n",
    "                    twodig_ = True\n",
    "    return i,second_,twodig_,nr_,numlist_,savelist_,pcguess_"
   ]
  },
  {
   "cell_type": "code",
   "execution_count": 5,
   "metadata": {},
   "outputs": [
    {
     "name": "stdout",
     "output_type": "stream",
     "text": [
      "Welcome to the Cows and Bulls Game! You have to guess my four digit number,a bull is a right digit at the wrong place, a cow is a right digit at the right place.\n",
      "Please enter your guess (Type \"exit\" to leave): 0011\n",
      "bulls:  0 cows:  0\n",
      "Please enter your guess (Type \"exit\" to leave): 2233\n",
      "bulls:  1 cows:  0\n",
      "Please enter your guess (Type \"exit\" to leave): 4442\n",
      "bulls:  0 cows:  0\n",
      "Please enter your guess (Type \"exit\" to leave): 3556\n",
      "bulls:  1 cows:  0\n",
      "Please enter your guess (Type \"exit\" to leave): 7388\n",
      "bulls:  0 cows:  4\n",
      "Congrats, you guessed the right number! The number was:  [7, 3, 8, 8] You needed 5 tries.\n"
     ]
    }
   ],
   "source": [
    "# variant 1: when guess has duplicates, only one considered as bull:\n",
    "print('Welcome to the Cows and Bulls Game! You have to guess my four digit number,'\n",
    "      'a bull is a right digit at the wrong place, a cow is a right digit at the right place.')\n",
    "number = list(np.random.randint(0,10,4))\n",
    "count = 0\n",
    "playerguess = 0\n",
    "while playerguess is not number:\n",
    "    playerguess = input('Please enter your guess (Type \"exit\" to leave): ')\n",
    "    if playerguess == 'exit':\n",
    "        print('You aborted the game.')\n",
    "        break\n",
    "    if re.match('^[0-9]{4}$', playerguess):\n",
    "        playerguess = list(playerguess)\n",
    "        for i,val in enumerate(playerguess):\n",
    "            playerguess[i] = int(val)\n",
    "        [bulls,cows] = checking_cowsandbulls(playerguess,number)\n",
    "        count +=1\n",
    "        if cows == 4:\n",
    "            print('Congrats, you guessed the right number! The number was: ', number,'You needed', count,'tries.')\n",
    "            break\n",
    "    else:\n",
    "        print('The format of your input is incorrect. Try again')"
   ]
  },
  {
   "cell_type": "code",
   "execution_count": 6,
   "metadata": {},
   "outputs": [
    {
     "name": "stdout",
     "output_type": "stream",
     "text": [
      "Now it´s the computer´s turn. Let´s see if you´re better than him!\n",
      "[0, 0, 1, 1]\n",
      "bulls:  0 cows:  0\n",
      "[2, 2, 3, 3]\n",
      "bulls:  2 cows:  0\n",
      "[2, 2, 2, 2]\n",
      "bulls:  0 cows:  0\n",
      "[4, 4, 5, 5]\n",
      "bulls:  0 cows:  0\n",
      "[6, 6, 7, 7]\n",
      "bulls:  1 cows:  0\n",
      "[6, 6, 6, 6]\n",
      "bulls:  0 cows:  1\n",
      "[8, 8, 9, 9]\n",
      "bulls:  0 cows:  1\n",
      "[8, 8, 8, 8]\n",
      "bulls:  0 cows:  0\n",
      "[8, 8, 8, 8]\n",
      "bulls:  0 cows:  0\n",
      "[3, 3, 6, 9]\n",
      "bulls:  0 cows:  4\n",
      "The computer has guessed the right number! The number was:  [3, 3, 6, 9] It needed 10 tries.\n",
      "Congrats! You won against the computer! You needed  5 tries less. Can you beat him again?\n"
     ]
    }
   ],
   "source": [
    "print('Now it´s the computer´s turn. Let´s see if you´re better than him!')\n",
    "#number = list(np.random.randint(0,10,4))\n",
    "#print(number)\n",
    "#number = [1,1,6,1]\n",
    "number = [3,3,6,9]\n",
    "pccount = 0\n",
    "pcguess = 0\n",
    "bulls = 0\n",
    "cows = 0\n",
    "numlist = [i for i in range(0,10)]\n",
    "twodig = True\n",
    "second = False\n",
    "nr = 0\n",
    "var = 0\n",
    "savelist = []\n",
    "while pcguess != number:\n",
    "    [var,second,twodig,nr,numlist,savelist,pcguess] = guess_algm(var,second,twodig,nr,numlist,savelist,pcguess,bulls,cows)\n",
    "    print(pcguess)\n",
    "    [bulls,cows] = checking_cowsandbulls(pcguess,number)\n",
    "    pccount +=1\n",
    "    if count > 60:\n",
    "        print('man that takes too long!')\n",
    "        break\n",
    "print('The computer has guessed the right number! The number was: ', number,'It needed', pccount,'tries.')\n",
    "if pccount < count:\n",
    "    print('The computer won! It needed ',count-pccount,'less tries. Better luck next time!')\n",
    "elif count < pccount:\n",
    "    print('Congrats! You won against the computer! You needed ',pccount-count,'tries less. Can you beat him again?')\n",
    "else:\n",
    "    print('You´re even with the computer! Both of you needed ',count,'tries. Can you beat him next time?')"
   ]
  }
 ],
 "metadata": {
  "kernelspec": {
   "display_name": "Python 3",
   "language": "python",
   "name": "python3"
  },
  "language_info": {
   "codemirror_mode": {
    "name": "ipython",
    "version": 3
   },
   "file_extension": ".py",
   "mimetype": "text/x-python",
   "name": "python",
   "nbconvert_exporter": "python",
   "pygments_lexer": "ipython3",
   "version": "3.7.8"
  }
 },
 "nbformat": 4,
 "nbformat_minor": 4
}
